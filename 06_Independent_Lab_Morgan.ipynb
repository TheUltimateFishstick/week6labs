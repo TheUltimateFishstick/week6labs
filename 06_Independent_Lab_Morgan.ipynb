{
 "cells": [
  {
   "cell_type": "markdown",
   "id": "7d4f95cb-1b28-4585-b49d-abd0ada4e47c",
   "metadata": {},
   "source": [
    "Troy Morgan  \n",
    "Week 6 Independent Lab  \n",
    "BGEN 632, Graduate Introduction to Python  \n",
    "Submitted April 7, 2025  \n",
    "\n",
    "A Grade Entry System for the FX Culinary School!"
   ]
  },
  {
   "cell_type": "markdown",
   "id": "7cae7180-44c9-49ad-bf4c-4919ef174cb1",
   "metadata": {},
   "source": [
    "# Variables"
   ]
  },
  {
   "cell_type": "code",
   "execution_count": 1,
   "id": "c344eafc-6e4d-43f3-8387-900078ae4bd6",
   "metadata": {},
   "outputs": [],
   "source": [
    "# A container for the student first names.\n",
    "first_name = [\"Carmen\", \"Sydney\", \"Neil\", \"Marcus\"]\n",
    "\n",
    "# A container for student last names.\n",
    "last_name = [\"Berzatto\", \"Adamu\", \"Fak\", \"Brooks\"]\n",
    "\n",
    "# A container for student majors.\n",
    "student_major = [\"Unresolved Trauma\", \"Patience\", \"Committment\", \"Patisserie\"]\n",
    "\n",
    "# A container for student GPA's. \n",
    "student_gpa = [2.30, 2.8, 3.0, 3.4]\n",
    "\n",
    "# A container for student academic violations\n",
    "student_academic_violations = []\n",
    "\n",
    "# Contains the list of academic violations.\n",
    "academic_violations = [\"Breaking the Roux\", \"Not washing hands\", \"Overcrowding the pan\", \"Adding garlic too early\", \"Cooking in cold pan\"]"
   ]
  },
  {
   "cell_type": "markdown",
   "id": "04886cf6-2a00-426c-b5f9-78d80e652d6f",
   "metadata": {},
   "source": [
    "# Code"
   ]
  },
  {
   "cell_type": "code",
   "execution_count": 2,
   "id": "3b7e69af-3671-476d-a528-30823727d509",
   "metadata": {},
   "outputs": [
    {
     "name": "stdout",
     "output_type": "stream",
     "text": [
      "You are now logged in to the FX Culinary School Student Information System.\n",
      "\n",
      "1. Student Information Query\n",
      "2. Student Information Entry\n",
      "3. Query GPA Metrics\n",
      "4. Academic Violations\n",
      "5. Quit Program\n"
     ]
    },
    {
     "name": "stdin",
     "output_type": "stream",
     "text": [
      "\n",
      "Select one of the options:\n",
      "\n",
      " 1\n"
     ]
    },
    {
     "name": "stdout",
     "output_type": "stream",
     "text": [
      "\n",
      "Here is a list of all students in the system:\n",
      "\n",
      "\n",
      " | Last Name  | First Name |           Major           |    GPA     |\n",
      "\n",
      " | Berzatto   | Carmen     | Unresolved Trauma         |    2.3     |\n",
      "\n",
      "\n",
      " | Adamu      | Sydney     | Patience                  |    2.8     |\n",
      "\n",
      "\n",
      " | Fak        | Neil       | Committment               |    3.0     |\n",
      "\n",
      "\n",
      " | Brooks     | Marcus     | Patisserie                |    3.4     |\n",
      "\n",
      "1. Student Information Query\n",
      "2. Student Information Entry\n",
      "3. Query GPA Metrics\n",
      "4. Academic Violations\n",
      "5. Quit Program\n"
     ]
    },
    {
     "name": "stdin",
     "output_type": "stream",
     "text": [
      "\n",
      "Select one of the options:\n",
      "\n",
      " 3\n"
     ]
    },
    {
     "name": "stdout",
     "output_type": "stream",
     "text": [
      "\n",
      "Maximum GPA: 3.4\n",
      "Minimun GPA: 2.3\n",
      "Average GPA: 2.875\n",
      "\n",
      "1. Student Information Query\n",
      "2. Student Information Entry\n",
      "3. Query GPA Metrics\n",
      "4. Academic Violations\n",
      "5. Quit Program\n"
     ]
    },
    {
     "name": "stdin",
     "output_type": "stream",
     "text": [
      "\n",
      "Select one of the options:\n",
      "\n",
      " 2\n"
     ]
    },
    {
     "name": "stdout",
     "output_type": "stream",
     "text": [
      "\n",
      "Preparing to create a new student record...\n",
      "Enter the following information:\n",
      "\n"
     ]
    },
    {
     "name": "stdin",
     "output_type": "stream",
     "text": [
      "Last name: Berzatto\n",
      "First name: Natalie\n",
      "Major: Restaurant Management\n",
      "GPA: 3.80\n"
     ]
    },
    {
     "name": "stdout",
     "output_type": "stream",
     "text": [
      "\n",
      "A new student record has been created!\n",
      "\n",
      "1. Student Information Query\n",
      "2. Student Information Entry\n",
      "3. Query GPA Metrics\n",
      "4. Academic Violations\n",
      "5. Quit Program\n"
     ]
    },
    {
     "name": "stdin",
     "output_type": "stream",
     "text": [
      "\n",
      "Select one of the options:\n",
      "\n",
      " 2\n"
     ]
    },
    {
     "name": "stdout",
     "output_type": "stream",
     "text": [
      "\n",
      "Preparing to create a new student record...\n",
      "Enter the following information:\n",
      "\n"
     ]
    },
    {
     "name": "stdin",
     "output_type": "stream",
     "text": [
      "Last name: Morgan\n",
      "First name: Troy\n",
      "Major: Soup\n",
      "GPA: 4.00\n"
     ]
    },
    {
     "name": "stdout",
     "output_type": "stream",
     "text": [
      "\n",
      "A new student record has been created!\n",
      "\n",
      "1. Student Information Query\n",
      "2. Student Information Entry\n",
      "3. Query GPA Metrics\n",
      "4. Academic Violations\n",
      "5. Quit Program\n"
     ]
    },
    {
     "name": "stdin",
     "output_type": "stream",
     "text": [
      "\n",
      "Select one of the options:\n",
      "\n",
      " 1\n"
     ]
    },
    {
     "name": "stdout",
     "output_type": "stream",
     "text": [
      "\n",
      "Here is a list of all students in the system:\n",
      "\n",
      "\n",
      " | Last Name  | First Name |           Major           |    GPA     |\n",
      "\n",
      " | Berzatto   | Carmen     | Unresolved Trauma         |    2.3     |\n",
      "\n",
      "\n",
      " | Adamu      | Sydney     | Patience                  |    2.8     |\n",
      "\n",
      "\n",
      " | Fak        | Neil       | Committment               |    3.0     |\n",
      "\n",
      "\n",
      " | Brooks     | Marcus     | Patisserie                |    3.4     |\n",
      "\n",
      "\n",
      " | Berzatto   | Natalie    | Restaurant Management     |    3.8     |\n",
      "\n",
      "\n",
      " | Morgan     | Troy       | Soup                      |    4.0     |\n",
      "\n",
      "1. Student Information Query\n",
      "2. Student Information Entry\n",
      "3. Query GPA Metrics\n",
      "4. Academic Violations\n",
      "5. Quit Program\n"
     ]
    },
    {
     "name": "stdin",
     "output_type": "stream",
     "text": [
      "\n",
      "Select one of the options:\n",
      "\n",
      " 3\n"
     ]
    },
    {
     "name": "stdout",
     "output_type": "stream",
     "text": [
      "\n",
      "Maximum GPA: 4.0\n",
      "Minimun GPA: 2.3\n",
      "Average GPA: 3.216666666666667\n",
      "\n",
      "1. Student Information Query\n",
      "2. Student Information Entry\n",
      "3. Query GPA Metrics\n",
      "4. Academic Violations\n",
      "5. Quit Program\n"
     ]
    },
    {
     "name": "stdin",
     "output_type": "stream",
     "text": [
      "\n",
      "Select one of the options:\n",
      "\n",
      " 4\n"
     ]
    },
    {
     "name": "stdout",
     "output_type": "stream",
     "text": [
      "\n",
      "You have entered the Academic Violation System.\n",
      "List of current students:\n",
      "\n",
      "Berzatto, Carmen\n",
      "\n",
      "Adamu, Sydney\n",
      "\n",
      "Fak, Neil\n",
      "\n",
      "Brooks, Marcus\n",
      "\n",
      "Berzatto, Natalie\n",
      "\n",
      "Morgan, Troy\n",
      "\n",
      "1. Enter student academic violation.\n",
      "2. View student academic violations.\n",
      "3. Exit Academic Violation System and return to main menu.\n"
     ]
    },
    {
     "name": "stdin",
     "output_type": "stream",
     "text": [
      "\n",
      "Select an option: 1\n",
      "\n",
      "Enter student's name in the following format: last name, first name: Fak, Neil\n"
     ]
    },
    {
     "name": "stdout",
     "output_type": "stream",
     "text": [
      "\n",
      "List of academic violations:\n",
      "\n",
      "Breaking the Roux\n",
      "\n",
      "Not washing hands\n",
      "\n",
      "Overcrowding the pan\n",
      "\n",
      "Adding garlic too early\n",
      "\n",
      "Cooking in cold pan\n"
     ]
    },
    {
     "name": "stdin",
     "output_type": "stream",
     "text": [
      "\n",
      "Enter a student violation from the list: Not washing hands\n"
     ]
    },
    {
     "name": "stdout",
     "output_type": "stream",
     "text": [
      "\n",
      "Academic Violation recorded.\n",
      "\n",
      "1. Enter student academic violation.\n",
      "2. View student academic violations.\n",
      "3. Exit Academic Violation System and return to main menu.\n"
     ]
    },
    {
     "name": "stdin",
     "output_type": "stream",
     "text": [
      "\n",
      "Select an option: 1\n",
      "\n",
      "Enter student's name in the following format: last name, first name: Morgan, Troy\n"
     ]
    },
    {
     "name": "stdout",
     "output_type": "stream",
     "text": [
      "\n",
      "List of academic violations:\n",
      "\n",
      "Breaking the Roux\n",
      "\n",
      "Not washing hands\n",
      "\n",
      "Overcrowding the pan\n",
      "\n",
      "Adding garlic too early\n",
      "\n",
      "Cooking in cold pan\n"
     ]
    },
    {
     "name": "stdin",
     "output_type": "stream",
     "text": [
      "\n",
      "Enter a student violation from the list: Breaking the Roux\n"
     ]
    },
    {
     "name": "stdout",
     "output_type": "stream",
     "text": [
      "\n",
      "Academic Violation recorded.\n",
      "\n",
      "1. Enter student academic violation.\n",
      "2. View student academic violations.\n",
      "3. Exit Academic Violation System and return to main menu.\n"
     ]
    },
    {
     "name": "stdin",
     "output_type": "stream",
     "text": [
      "\n",
      "Select an option: 2\n"
     ]
    },
    {
     "name": "stdout",
     "output_type": "stream",
     "text": [
      "\n",
      "List of recorded violations:\n",
      "\n",
      "Fak, Neil; Not washing hands\n",
      "\n",
      "Morgan, Troy; Breaking the Roux\n",
      "\n",
      "1. Enter student academic violation.\n",
      "2. View student academic violations.\n",
      "3. Exit Academic Violation System and return to main menu.\n"
     ]
    },
    {
     "name": "stdin",
     "output_type": "stream",
     "text": [
      "\n",
      "Select an option: 3\n"
     ]
    },
    {
     "name": "stdout",
     "output_type": "stream",
     "text": [
      "\n",
      "Exiting Academic Violation System to main menu...\n",
      "\n",
      "1. Student Information Query\n",
      "2. Student Information Entry\n",
      "3. Query GPA Metrics\n",
      "4. Academic Violations\n",
      "5. Quit Program\n"
     ]
    },
    {
     "name": "stdin",
     "output_type": "stream",
     "text": [
      "\n",
      "Select one of the options:\n",
      "\n",
      " 5\n"
     ]
    },
    {
     "name": "stdout",
     "output_type": "stream",
     "text": [
      "\n",
      "You are now logged out. Thank you for using the FX Culinary School Student Information System.\n",
      "\n"
     ]
    }
   ],
   "source": [
    "# Set end_service to false. \n",
    "end_service = False\n",
    "\n",
    "# Welcome statement\n",
    "print(\"You are now logged in to the FX Culinary School Student Information System.\\n\")\n",
    "\n",
    "# Begin Loop\n",
    "while True:\n",
    "\n",
    "    # Menu display\n",
    "    print(\"1. Student Information Query\")\n",
    "    print(\"2. Student Information Entry\")\n",
    "    print(\"3. Query GPA Metrics\")\n",
    "    print(\"4. Academic Violations\")\n",
    "    print(\"5. Quit Program\")\n",
    "\n",
    "    # Prompt user for menu option. \n",
    "    user_choice = str(input(\"\\nSelect one of the options:\\n\\n\"))\n",
    "\n",
    "    # Ensure an option is selected from the menu. \n",
    "    if user_choice not in [\"1\", \"2\", \"3\", \"4\", \"5\"]:\n",
    "        print(\"\\nThat is not an option. Please choose a number from the menu.\\n\")\n",
    "        continue\n",
    "\n",
    "    # Student Information Query\n",
    "    if user_choice == \"1\":\n",
    "        # Zip together data from lists for display to user.\n",
    "        # See reference in References section about how I found out about the zip() funtion. \n",
    "        print(\"\\nHere is a list of all students in the system:\\n\") \n",
    "        print(f\"\\n | {\"Last Name\":^10} | {\"First Name\":^10} | {\"Major\":^25} | {\"GPA\":^10} |\")\n",
    "        for first, last, major, gpa in zip(first_name, last_name, student_major, student_gpa): \n",
    "            print(f\"\\n | {last:<10} | {first:<10} | {major:<25} | {gpa:^10} |\\n\")\n",
    "\n",
    "    # Student Information Entry\n",
    "    if user_choice == \"2\":\n",
    "        # Begin prompt for data entry. \n",
    "        print(\"\\nPreparing to create a new student record...\")\n",
    "        print(\"Enter the following information:\\n\")\n",
    "\n",
    "        # Get last name and append to last_name list. \n",
    "        enter_last_name = str(input(\"Last name:\"))\n",
    "        last_name.append(enter_last_name)\n",
    "\n",
    "        # Get first name and append to last_name list.         \n",
    "        enter_first_name = str(input(\"First name:\"))\n",
    "        first_name.append(enter_first_name)\n",
    "\n",
    "        # Get major and append to list. \n",
    "        enter_major = str(input(\"Major:\"))\n",
    "        student_major.append(enter_major)\n",
    "\n",
    "        # Get gpa and append to list. \n",
    "        enter_gpa = float(input(\"GPA:\"))\n",
    "        student_gpa.append(enter_gpa)\n",
    "\n",
    "        # Inform user that record has been created.\n",
    "        print(\"\\nA new student record has been created!\\n\")\n",
    "\n",
    "    # Query GPA Metrics\n",
    "    if user_choice == \"3\":\n",
    "        # Determine max gpa, min gpa, and average gpa values. \n",
    "        max_gpa = max(student_gpa)\n",
    "        min_gpa = min(student_gpa)\n",
    "        avg_gpa = sum(student_gpa) / len(student_gpa)\n",
    "\n",
    "        # Display values.\n",
    "        print(f\"\\nMaximum GPA: {max_gpa}\")\n",
    "        print(f\"Minimun GPA: {min_gpa}\")\n",
    "        print(f\"Average GPA: {avg_gpa}\\n\")\n",
    "\n",
    "    # Academic Violations\n",
    "    if user_choice == \"4\":\n",
    "        av_menu = True\n",
    "\n",
    "        # Tell user that they are now in the Academic Violation System and print list of current students. \n",
    "        print(\"\\nYou have entered the Academic Violation System.\")\n",
    "        print(\"List of current students:\")\n",
    "        \n",
    "        for last, first in zip(last_name, first_name): \n",
    "            print(f\"\\n{last}, {first}\")\n",
    "\n",
    "        # Begin sub menu and nested loop    \n",
    "        while av_menu == True:\n",
    "\n",
    "            # Show Academic Violation System menu.\n",
    "            print(\"\\n1. Enter student academic violation.\")\n",
    "            print(\"2. View student academic violations.\")\n",
    "            print(\"3. Exit Academic Violation System and return to main menu.\")    \n",
    "\n",
    "            # Prompt user for selection.\n",
    "            v_menu_choice = str(input(\"\\nSelect an option:\"))\n",
    "\n",
    "            # Enter student Academic Violation.        \n",
    "            if v_menu_choice == \"1\":\n",
    "\n",
    "                # Prompt user for name.\n",
    "                name_violation = str(input(f\"\\nEnter student's name in the following format: last name, first name:\"))\n",
    "\n",
    "                # Print list of violations\n",
    "                print(\"\\nList of academic violations:\")\n",
    "                for violation in (academic_violations): \n",
    "                    print(f\"\\n{violation}\")\n",
    "\n",
    "                # Prompt user to enter violation.\n",
    "                add_violation = str(input(f\"\\nEnter a student violation from the list:\"))\n",
    "\n",
    "                # Create violation record in student_academic_violations.\n",
    "                student_academic_violations.append(f\"\\n{name_violation}; {add_violation}\")\n",
    "\n",
    "                # Inform user violation has been recorded.\n",
    "                print(\"\\nAcademic Violation recorded.\")\n",
    "\n",
    "            # Display violations recorded in student_academic violations.\n",
    "            elif v_menu_choice == \"2\": \n",
    "                print(\"\\nList of recorded violations:\")\n",
    "                for violations in (student_academic_violations):\n",
    "                    print(f\"{violations}\")\n",
    "\n",
    "            # Exit Academic Violation System and return to main menu. \n",
    "            elif v_menu_choice == \"3\":\n",
    "                av_menu = False\n",
    "                print(\"\\nExiting Academic Violation System to main menu...\\n\")\n",
    "                break\n",
    "\n",
    "            # Ensure user selects choice from list. \n",
    "            elif v_menu_choice not in [\"1\", \"2\", \"3\"]:\n",
    "                print(\"\\nThat is not an option. Please enter a valid option\\n\")\n",
    "                continue\n",
    "                \n",
    "    # Quit Program\n",
    "    if user_choice == \"5\":\n",
    "        end_service = True\n",
    "        print(\"\\nYou are now logged out. Thank you for using the FX Culinary School Student Information System.\\n\")\n",
    "        break"
   ]
  },
  {
   "cell_type": "markdown",
   "id": "3ee7a5fb-a959-4e04-9748-fade97dc4a8b",
   "metadata": {},
   "source": [
    "# References"
   ]
  },
  {
   "cell_type": "markdown",
   "id": "22874c62-c3c8-42ef-b090-7d9cc9c763d2",
   "metadata": {},
   "source": [
    "I user the same zip funtion as I used in the instructor lab. \n",
    "    \n",
    "<div><center><img src = \"assets/ChatGPT_print_questions.JPG\"></center></div>"
   ]
  }
 ],
 "metadata": {
  "kernelspec": {
   "display_name": "Python 3 (ipykernel)",
   "language": "python",
   "name": "python3"
  },
  "language_info": {
   "codemirror_mode": {
    "name": "ipython",
    "version": 3
   },
   "file_extension": ".py",
   "mimetype": "text/x-python",
   "name": "python",
   "nbconvert_exporter": "python",
   "pygments_lexer": "ipython3",
   "version": "3.12.7"
  }
 },
 "nbformat": 4,
 "nbformat_minor": 5
}
