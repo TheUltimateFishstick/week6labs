{
 "cells": [
  {
   "cell_type": "markdown",
   "id": "7d4f95cb-1b28-4585-b49d-abd0ada4e47c",
   "metadata": {},
   "source": [
    "Troy Morgan\n",
    "Week 6 Independent Lab\n",
    "BGEN 632, Graduate Introduction to Python\n",
    "Submitted April 7, 2025\n",
    "\n",
    "A Grade Entry System"
   ]
  },
  {
   "cell_type": "markdown",
   "id": "7cae7180-44c9-49ad-bf4c-4919ef174cb1",
   "metadata": {},
   "source": [
    "# Variables"
   ]
  },
  {
   "cell_type": "code",
   "execution_count": 1,
   "id": "c344eafc-6e4d-43f3-8387-900078ae4bd6",
   "metadata": {},
   "outputs": [],
   "source": [
    "\n",
    "# 6 lists\n",
    "# Students\n",
    "\n",
    "first_name = [\"Carmen\", \"Sydney\", \"Neil\", \"Marcus\"]\n",
    "\n",
    "last_name = [\"Berzatto\", \"Adamu\", \"Fak\", \"Brooks\"]\n",
    "\n",
    "major = [\"Unresolved Trauma\", \"Patience\", \"Committment\", \"Patisserie\"]\n",
    "\n",
    "gpa = [2.30, 2.8, 3.0, 3.4]\n",
    "\n",
    "student_academic_violations = []\n",
    "\n",
    "academic_violations = []"
   ]
  },
  {
   "cell_type": "markdown",
   "id": "04886cf6-2a00-426c-b5f9-78d80e652d6f",
   "metadata": {},
   "source": [
    "# Code"
   ]
  },
  {
   "cell_type": "code",
   "execution_count": null,
   "id": "3b7e69af-3671-476d-a528-30823727d509",
   "metadata": {},
   "outputs": [
    {
     "name": "stdout",
     "output_type": "stream",
     "text": [
      "You are now logged in to the FX Culinary School Student Information System.\n",
      "\n",
      "1. Student Information Query\n",
      "2. Student Information Entry\n",
      "3. Query GPA Metrics\n",
      "4. Academic Violations\n",
      "5. Quit Program\n"
     ]
    },
    {
     "name": "stdin",
     "output_type": "stream",
     "text": [
      "\n",
      "Select one of the options:\n",
      "\n",
      " 3\n"
     ]
    },
    {
     "name": "stdout",
     "output_type": "stream",
     "text": [
      "\n",
      "Maximum GPA: 3.4\n",
      "Minimun GPA: 2.3\n",
      "Average GPA: 2.875\n",
      "\n",
      "1. Student Information Query\n",
      "2. Student Information Entry\n",
      "3. Query GPA Metrics\n",
      "4. Academic Violations\n",
      "5. Quit Program\n"
     ]
    }
   ],
   "source": [
    "end_service = False\n",
    "\n",
    "print(\"You are now logged in to the FX Culinary School Student Information System.\\n\")\n",
    "\n",
    "while True:\n",
    "\n",
    "    print(\"1. Student Information Query\")\n",
    "    print(\"2. Student Information Entry\")\n",
    "    print(\"3. Query GPA Metrics\")\n",
    "    print(\"4. Academic Violations\")\n",
    "    print(\"5. Quit Program\")\n",
    "\n",
    "    user_choice = str(input(\"\\nSelect one of the options:\\n\\n\"))\n",
    "\n",
    "    # This will ensure a correct option is selected. \n",
    "    if user_choice not in [\"1\", \"2\", \"3\", \"4\", \"5\"]:\n",
    "        print(\"\\nThat is not an option. Please choose a number from the menu.\\n\")\n",
    "        continue\n",
    "\n",
    "    if user_choice == \"1\":\n",
    "        for first, last, major, gpa in zip(first_name, last_name, major, gpa): # see reference in References section about how I found out about the zip() funtion. \n",
    "            print(f\"\\n | {last}, {first} |  {major} | GPA: {gpa}\\n\")\n",
    "\n",
    "    if user_choice == \"2\":\n",
    "        print(\"\\nPreparing to create a new student record...\")\n",
    "        print(\"Enter the following information:\\n\")\n",
    "        enter_last_name = str(input(\"Last name:\\n\"))\n",
    "        last_name.append(enter_last_name)\n",
    "        enter_first_name = str(input(\"First name:\\n\"))\n",
    "        first_name.append(enter_first_name)\n",
    "        enter_major = str(input(\"Major:\\n\"))\n",
    "        major.append(enter_major)\n",
    "        enter_gpa = float(input(\"GPA\\n\"))\n",
    "        gpa.append(enter_gpa)\n",
    "        print(\"\\nStudent record created.\\n\")\n",
    "\n",
    "    if user_choice == \"3\":\n",
    "        max_gpa = max(gpa)\n",
    "        min_gpa = min(gpa)\n",
    "        avg_gpa = sum(gpa) / len(gpa)\n",
    "        print(f\"\\nMaximum GPA: {max_gpa}\")\n",
    "        print(f\"Minimun GPA: {min_gpa}\")\n",
    "        print(f\"Average GPA: {avg_gpa}\\n\")"
   ]
  },
  {
   "cell_type": "markdown",
   "id": "3ee7a5fb-a959-4e04-9748-fade97dc4a8b",
   "metadata": {},
   "source": [
    "# References"
   ]
  }
 ],
 "metadata": {
  "kernelspec": {
   "display_name": "Python 3 (ipykernel)",
   "language": "python",
   "name": "python3"
  },
  "language_info": {
   "codemirror_mode": {
    "name": "ipython",
    "version": 3
   },
   "file_extension": ".py",
   "mimetype": "text/x-python",
   "name": "python",
   "nbconvert_exporter": "python",
   "pygments_lexer": "ipython3",
   "version": "3.12.7"
  }
 },
 "nbformat": 4,
 "nbformat_minor": 5
}
