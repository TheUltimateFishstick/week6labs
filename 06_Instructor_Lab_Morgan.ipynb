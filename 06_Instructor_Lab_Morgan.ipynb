{
 "cells": [
  {
   "cell_type": "markdown",
   "id": "ac597677-dc72-46a2-8df2-e39495a3dad0",
   "metadata": {},
   "source": [
    "Troy Morgan  \n",
    "Week 6 Instructor-Led Lab  \n",
    "BGEN 632, Graduate Introduction to Python  \n",
    "Submitted April 7, 2025\n",
    "\n",
    "The Magic Crystal Ball!! (Nihilist Version), using collections, nested loops, and a random number generator. "
   ]
  },
  {
   "cell_type": "markdown",
   "id": "d4021b10-5a73-4e10-836d-6015e2ee9d51",
   "metadata": {},
   "source": [
    "# Imports"
   ]
  },
  {
   "cell_type": "code",
   "execution_count": 1,
   "id": "7a88c5f0-4a1e-461f-8d74-013a63775980",
   "metadata": {},
   "outputs": [],
   "source": [
    "import random as rand"
   ]
  },
  {
   "cell_type": "markdown",
   "id": "2f009473-f906-4c63-ad21-d70b9029878d",
   "metadata": {},
   "source": [
    "# Variables"
   ]
  },
  {
   "cell_type": "code",
   "execution_count": 2,
   "id": "56bde99e-43d5-4a80-aa9a-be77a0e78e4c",
   "metadata": {},
   "outputs": [],
   "source": [
    "fortunes = [\n",
    "    \"It is certain.\",\n",
    "    \"It is decidedly so.\",\n",
    "    \"That question requires greater monetary compensation.\",\n",
    "    \"Reply is hazy; try again, with more money.\",\n",
    "    \"Concentrate and ask again.\",\n",
    "    \"My reply is no.\",\n",
    "    \"Outlook is not so good.\",\n",
    "    \"Very doubtful.\",\n",
    "    \"Outlook is good, but nothing matters and all will end in death anyway.\", \n",
    "    \"All replies are meaningless. Nothing is ever certain.\",\n",
    "    \"Everything is absurd. Surrender yourself to the meaningless void.\"\n",
    "    ] #This is the list that contains the 8 answers as dictated in the assignment as well as the 3 additional answers of my own. Please note that I am not a nihilist. I just think such answers are funny!\n",
    "\n",
    "question_asked = False  #This is to keep track of whether a first question has been asked. \n",
    "service_cost = 0.0  #This allows us to track cost. \n",
    "\n",
    "user_questions = []  #User questions will be stored here.\n",
    "responses = []  #Responses to user questions will be stored here. "
   ]
  },
  {
   "cell_type": "markdown",
   "id": "8b1e6c16-38c2-4795-89fd-eb6edabace3e",
   "metadata": {},
   "source": [
    "# Create Nested Loop"
   ]
  },
  {
   "cell_type": "code",
   "execution_count": null,
   "id": "f13eb2e8-7bc1-40c0-a582-fab4a8ef06e9",
   "metadata": {},
   "outputs": [
    {
     "name": "stdout",
     "output_type": "stream",
     "text": [
      "Welcome to the Nihilist Crystal Ball!\n",
      "\n",
      "1. Ask a question.\n",
      "2. Review questions and responses.\n",
      "3. Complete services and pay.\n",
      "\n"
     ]
    }
   ],
   "source": [
    "end_service = False \n",
    "x = 0\n",
    "\n",
    "print(\"Welcome to the Nihilist Crystal Ball!\\n\")\n",
    "\n",
    "\n",
    "# Begin Loop\n",
    "while True:\n",
    "\n",
    "    if question_asked == False: \n",
    "        print(\"1. Ask a question.\")\n",
    "        print(\"2. Review questions and responses.\")\n",
    "        print(\"3. Complete services and pay.\\n\")\n",
    "        user_choice = int(input(\"Please select one of the options:\\n\\n\"))\n",
    "\n",
    "    if question_asked == True:\n",
    "        print(\"1. Ask another question.\")\n",
    "        print(\"2. Review questions and responses.\")\n",
    "        print(\"3. Complete services and pay.\\n\")\n",
    "        user_choice = int(input(\"Please select one of the options:\\n\\n\"))    \n",
    "\n",
    "    # This will ensure a correct option is selected. \n",
    "    if user_choice != 1 and user_choice != 2 and user_choice != 3:\n",
    "        print(\"That is not an option. Please choose a number from the menu.\")\n",
    "        continue\n",
    "\n",
    "    if user_choice == 1:\n",
    "        user_question = input(\"\\n Ask your question, but be warned! You may not be prepared for the truths about to be revealed!\\n\\n\")\n",
    "        user_questions.append(user_question)\n",
    "        question_asked = True\n",
    "        rand_response = rand.choice(fortunes)\n",
    "        responses.append(rand_response)\n",
    "        print(rand_response)\n",
    "\n",
    "    elif user_choice == 2: \n",
    "        if not user_questions:\n",
    "            print(\"You have not asked any questions yet.\\n\")\n",
    "        else:\n",
    "            for x,y in zip(user_questions, responses):\n",
    "                print(f\"\\n\\nQuestion: {x}\")\n",
    "                print(f\"Response: {y}\\n\\n\")\n",
    "\n",
    "\n",
    "    elif user_choice == 3 and question_asked == False:\n",
    "        print(\"You have not asked any questions yet.\")\n",
    "    elif user_choice == 3 and question_asked == True:\n",
    "        num_questions = len(user_questions)\n",
    "        total_cost = len(user_questions) * 30.00\n",
    "        print(\"Thank you for using the Nihilist Crystal Ball... even though questions are meaningless and existence is futile.\")\n",
    "        print(f\"You asked {num_questions} questions. Your total cost is ${total_cost}. Money doesn't matter. Pay up.\")\n",
    "\n",
    "    \n",
    "\n",
    "\n"
   ]
  },
  {
   "cell_type": "markdown",
   "id": "d59c9ec5-a830-41af-9dd2-98d3db06c144",
   "metadata": {},
   "source": [
    "# References"
   ]
  },
  {
   "cell_type": "markdown",
   "id": "8c147b43-e798-41a5-9bdc-5c7219467bd8",
   "metadata": {},
   "source": [
    "<div><center><img src = \"assets/ChatGPT_print_questions.JPG\"></center></div>\n",
    "\n"
   ]
  },
  {
   "cell_type": "code",
   "execution_count": null,
   "id": "034fc40d-151b-4a97-9470-e1b07e9f8de4",
   "metadata": {},
   "outputs": [],
   "source": []
  }
 ],
 "metadata": {
  "kernelspec": {
   "display_name": "Python 3 (ipykernel)",
   "language": "python",
   "name": "python3"
  },
  "language_info": {
   "codemirror_mode": {
    "name": "ipython",
    "version": 3
   },
   "file_extension": ".py",
   "mimetype": "text/x-python",
   "name": "python",
   "nbconvert_exporter": "python",
   "pygments_lexer": "ipython3",
   "version": "3.12.7"
  }
 },
 "nbformat": 4,
 "nbformat_minor": 5
}
