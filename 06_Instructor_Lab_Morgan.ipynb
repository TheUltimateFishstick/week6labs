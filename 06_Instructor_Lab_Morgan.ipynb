{
 "cells": [
  {
   "cell_type": "markdown",
   "id": "ac597677-dc72-46a2-8df2-e39495a3dad0",
   "metadata": {},
   "source": [
    "Troy Morgan  \n",
    "Week 6 Instructor-Led Lab  \n",
    "BGEN 632, Graduate Introduction to Python  \n",
    "Submitted April 7, 2025\n",
    "\n",
    "The Magic Crystal Ball!! (Nihilist Version)"
   ]
  },
  {
   "cell_type": "code",
   "execution_count": null,
   "id": "bba5b4c7-42c2-4d11-8d4c-c7e39c6bc2d1",
   "metadata": {},
   "outputs": [],
   "source": [
    "###Variables"
   ]
  },
  {
   "cell_type": "code",
   "execution_count": 1,
   "id": "56bde99e-43d5-4a80-aa9a-be77a0e78e4c",
   "metadata": {},
   "outputs": [],
   "source": [
    "## This is the list that contains the 8 answers as dictated in the assignment as well as the 3 additional answers of my own. Please note that I am not a nihilist. I just think such answers are funny!\n",
    "\n",
    "answers = [\n",
    "    \"It is certain.\",\n",
    "    \"It is decidedly so.\",\n",
    "    \"That question requires greater monetary compensation.\",\n",
    "    \"Reply is hazy; try again, with more money.\",\n",
    "    \"Concentrate and ask again.\",\n",
    "    \"My reply is no.\",\n",
    "    \"Outlook is not so good.\",\n",
    "    \"Very doubtful.\",\n",
    "    \"Outlook is good, but nothing matters and all will end in death anyway.\", \n",
    "    \"All replies are meaningless. Nothing is ever certain.\",\n",
    "    \"Everything is absurd. Surrender yourself to the meaningless void.\"\n",
    "    ]"
   ]
  },
  {
   "cell_type": "code",
   "execution_count": 5,
   "id": "f13eb2e8-7bc1-40c0-a582-fab4a8ef06e9",
   "metadata": {},
   "outputs": [
    {
     "name": "stdout",
     "output_type": "stream",
     "text": [
      "Welcome to the Nihilist Crystal Ball!\n",
      "Please select an option below.\n",
      "Be warned! You may no be prepared for the truths about to be revealed!\n",
      "\n",
      "1. Ask a question\n",
      "2. Review questions and responses\n",
      "3. Complete services and pay\n"
     ]
    }
   ],
   "source": [
    "## This is the prompt.\n",
    "\n",
    "print(\"Welcome to the Nihilist Crystal Ball!\")\n",
    "print(\"Please select an option below.\")\n",
    "print(\"Be warned! You may no be prepared for the truths about to be revealed!\\n\") \n",
    "print(\"1. Ask a question\")\n",
    "print(\"2. Review questions and responses\")\n",
    "print(\"3. Complete services and pay\")"
   ]
  },
  {
   "cell_type": "code",
   "execution_count": null,
   "id": "63629f44-abac-4213-90d1-87829ef5dc6c",
   "metadata": {},
   "outputs": [],
   "source": []
  }
 ],
 "metadata": {
  "kernelspec": {
   "display_name": "Python 3 (ipykernel)",
   "language": "python",
   "name": "python3"
  },
  "language_info": {
   "codemirror_mode": {
    "name": "ipython",
    "version": 3
   },
   "file_extension": ".py",
   "mimetype": "text/x-python",
   "name": "python",
   "nbconvert_exporter": "python",
   "pygments_lexer": "ipython3",
   "version": "3.12.7"
  }
 },
 "nbformat": 4,
 "nbformat_minor": 5
}
