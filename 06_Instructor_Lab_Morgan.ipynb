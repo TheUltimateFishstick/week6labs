{
 "cells": [
  {
   "cell_type": "markdown",
   "id": "ac597677-dc72-46a2-8df2-e39495a3dad0",
   "metadata": {},
   "source": [
    "Troy Morgan  \n",
    "Week 6 Independent Lab  \n",
    "BGEN 632, Graduate Introduction to Python  \n",
    "Submitted April 7, 2025\n",
    "\n",
    "The Magic Crystal Ball!! (Nihilist Version), using collections, nested loops, and a random number generator. "
   ]
  },
  {
   "cell_type": "markdown",
   "id": "d4021b10-5a73-4e10-836d-6015e2ee9d51",
   "metadata": {},
   "source": [
    "# Imports"
   ]
  },
  {
   "cell_type": "code",
   "execution_count": 1,
   "id": "7a88c5f0-4a1e-461f-8d74-013a63775980",
   "metadata": {},
   "outputs": [],
   "source": [
    "import random as rand # This imports the random generator."
   ]
  },
  {
   "cell_type": "markdown",
   "id": "2f009473-f906-4c63-ad21-d70b9029878d",
   "metadata": {},
   "source": [
    "# Variables"
   ]
  },
  {
   "cell_type": "code",
   "execution_count": 2,
   "id": "56bde99e-43d5-4a80-aa9a-be77a0e78e4c",
   "metadata": {},
   "outputs": [],
   "source": [
    "fortunes = [\n",
    "    \"It is certain.\\n\",\n",
    "    \"It is decidedly so.\\n\",\n",
    "    \"That question requires greater monetary compensation.\\n\",\n",
    "    \"Reply is hazy; try again, with more money.\\n\",\n",
    "    \"Concentrate and ask again.\\n\",\n",
    "    \"My reply is no.\\n\",\n",
    "    \"Outlook is not so good.\\n\",\n",
    "    \"Very doubtful.\\n\",\n",
    "    \"Outlook is good, but nothing matters and all will end in death anyway.\\n\", \n",
    "    \"All replies are meaningless. Nothing is ever certain.\\n\",\n",
    "    \"Everything is absurd. Surrender yourself to the meaningless void.\\n\"\n",
    "    ] \n",
    "    # This is the list that contains the 8 answers as dictated in the assignment \n",
    "    # as well as the 3 additional answers of my own. \n",
    "    # Please note that I am not a nihilist. I just think such answers are funny!\n",
    "\n",
    "question_asked = False  #This is to keep track of whether a first question has been asked. \n",
    "service_cost = 0.0  #This allows us to track cost. \n",
    "\n",
    "user_questions = []  #User questions will be stored here.\n",
    "responses = []  #Responses to user questions will be stored here. "
   ]
  },
  {
   "cell_type": "markdown",
   "id": "8b1e6c16-38c2-4795-89fd-eb6edabace3e",
   "metadata": {},
   "source": [
    "# Create Nested Loop"
   ]
  },
  {
   "cell_type": "code",
   "execution_count": 3,
   "id": "f13eb2e8-7bc1-40c0-a582-fab4a8ef06e9",
   "metadata": {},
   "outputs": [
    {
     "name": "stdout",
     "output_type": "stream",
     "text": [
      "Welcome to the Nihilist Crystal Ball!\n",
      "\n",
      "1. Ask a question.\n",
      "2. Review questions and responses.\n",
      "3. Complete services and pay.\n",
      "\n"
     ]
    },
    {
     "name": "stdin",
     "output_type": "stream",
     "text": [
      "Please select one of the options:\n",
      "\n",
      " 1\n",
      "\n",
      "Ask your question, but be warned! You may not be prepared for the truths about to be revealed!\n",
      "\n",
      " Will the Cubs make the playoffs this year?\n"
     ]
    },
    {
     "name": "stdout",
     "output_type": "stream",
     "text": [
      "Outlook is good, but nothing matters and all will end in death anyway.\n",
      "\n",
      "1. Ask another question.\n",
      "2. Review questions and responses.\n",
      "3. Complete services and pay.\n",
      "\n"
     ]
    },
    {
     "name": "stdin",
     "output_type": "stream",
     "text": [
      "Please select one of the options:\n",
      "\n",
      " 1\n",
      "\n",
      "Ask your question, but be warned! You may not be prepared for the truths about to be revealed!\n",
      "\n",
      " Will I find meaning in life?\n"
     ]
    },
    {
     "name": "stdout",
     "output_type": "stream",
     "text": [
      "Outlook is good, but nothing matters and all will end in death anyway.\n",
      "\n",
      "1. Ask another question.\n",
      "2. Review questions and responses.\n",
      "3. Complete services and pay.\n",
      "\n"
     ]
    },
    {
     "name": "stdin",
     "output_type": "stream",
     "text": [
      "Please select one of the options:\n",
      "\n",
      " 1\n",
      "\n",
      "Ask your question, but be warned! You may not be prepared for the truths about to be revealed!\n",
      "\n",
      " Will Arsenal win the Champions League this year?\n"
     ]
    },
    {
     "name": "stdout",
     "output_type": "stream",
     "text": [
      "It is certain.\n",
      "\n",
      "1. Ask another question.\n",
      "2. Review questions and responses.\n",
      "3. Complete services and pay.\n",
      "\n"
     ]
    },
    {
     "name": "stdin",
     "output_type": "stream",
     "text": [
      "Please select one of the options:\n",
      "\n",
      " 1\n",
      "\n",
      "Ask your question, but be warned! You may not be prepared for the truths about to be revealed!\n",
      "\n",
      " Will I die alone?\n"
     ]
    },
    {
     "name": "stdout",
     "output_type": "stream",
     "text": [
      "Outlook is not so good.\n",
      "\n",
      "1. Ask another question.\n",
      "2. Review questions and responses.\n",
      "3. Complete services and pay.\n",
      "\n"
     ]
    },
    {
     "name": "stdin",
     "output_type": "stream",
     "text": [
      "Please select one of the options:\n",
      "\n",
      " 2\n"
     ]
    },
    {
     "name": "stdout",
     "output_type": "stream",
     "text": [
      "\n",
      "Question: Will the Cubs make the playoffs this year?\n",
      "Response: Outlook is good, but nothing matters and all will end in death anyway.\n",
      "\n",
      "\n",
      "\n",
      "Question: Will I find meaning in life?\n",
      "Response: Outlook is good, but nothing matters and all will end in death anyway.\n",
      "\n",
      "\n",
      "\n",
      "Question: Will Arsenal win the Champions League this year?\n",
      "Response: It is certain.\n",
      "\n",
      "\n",
      "\n",
      "Question: Will I die alone?\n",
      "Response: Outlook is not so good.\n",
      "\n",
      "\n",
      "1. Ask another question.\n",
      "2. Review questions and responses.\n",
      "3. Complete services and pay.\n",
      "\n"
     ]
    },
    {
     "name": "stdin",
     "output_type": "stream",
     "text": [
      "Please select one of the options:\n",
      "\n",
      " 3\n"
     ]
    },
    {
     "name": "stdout",
     "output_type": "stream",
     "text": [
      "\n",
      "Thank you for using the Nihilist Crystal Ball... even though all questions are meaningless and existence is ultimately futile.\n",
      "You asked 4 questions. Your total cost is $120.00. Money doesn't matter. So, give it to us! Ve vant ze money, Lebowski.\n"
     ]
    }
   ],
   "source": [
    "\n",
    "end_service = False \n",
    "\n",
    "print(\"Welcome to the Nihilist Crystal Ball!\\n\")\n",
    "\n",
    "\n",
    "# Begin Loop\n",
    "while True:\n",
    "\n",
    "    if question_asked == False:   # This sets the initial question.\n",
    "        print(\"1. Ask a question.\")\n",
    "        print(\"2. Review questions and responses.\")\n",
    "        print(\"3. Complete services and pay.\\n\")\n",
    "        user_choice = str(input(\"Please select one of the options:\\n\\n\"))\n",
    "\n",
    "    if question_asked == True:     # This sets the question if a question has already been asked.\n",
    "        print(\"1. Ask another question.\")\n",
    "        print(\"2. Review questions and responses.\")\n",
    "        print(\"3. Complete services and pay.\\n\")\n",
    "        user_choice = str(input(\"Please select one of the options:\\n\\n\"))    \n",
    "\n",
    "    # This will ensure a correct option is selected. I changed the input from int to str make this work. How did I do?\n",
    "    if user_choice != \"1\" and user_choice != \"2\" and user_choice != \"3\":\n",
    "        print(\"\\nThat is not an option. Please choose a number from the menu.\\n\")\n",
    "        continue\n",
    "\n",
    "    if user_choice == \"1\":\n",
    "        user_question = input(\"\\nAsk your question, but be warned! You may not be prepared for the truths about to be revealed!\\n\\n\")\n",
    "        user_questions.append(user_question) # This puts the question in the user_questions list.\n",
    "        question_asked = True # This sets the question_asked variable to True so that we get the correct phrasing (\"a\" vs. \"another\"). \n",
    "        rand_response = rand.choice(fortunes) # This generates a random answer from the fortunes list. \n",
    "        responses.append(rand_response) # This adds the generated response to the responses list. \n",
    "        print(rand_response) # This displays the response to the user. \n",
    "\n",
    "    elif user_choice == \"2\" and question_asked == False:\n",
    "        print(\"\\nYou have not asked any questions yet.\\n\") # This prints an appropriate response when 2 is selected but no question has been asked. \n",
    "   \n",
    "    elif user_choice == \"2\" and question_asked == True:\n",
    "        for x,y in zip(user_questions, responses): # see reference in References section about how I found out about the zip() funtion. \n",
    "            print(f\"\\nQuestion: {x}\")\n",
    "            print(f\"Response: {y}\\n\")\n",
    "\n",
    "\n",
    "    elif user_choice == \"3\" and question_asked == False:\n",
    "        print(\"\\nYou have not asked any questions yet.\\n\") # This prints an appropriate response when 3 is selected but no question has been asked. \n",
    "    \n",
    "    elif user_choice == \"3\" and question_asked == True:\n",
    "        num_questions = len(user_questions) # This calculates the number of questions.\n",
    "        total_cost = num_questions * 30.00  # This calculates the total cost.\n",
    "        print(\"\\nThank you for using the Nihilist Crystal Ball... even though all questions are meaningless and existence is ultimately futile.\")\n",
    "        print(f\"You asked {num_questions} questions. Your total cost is ${total_cost:.2f}. Money doesn't matter. So, give it to us! Ve vant ze money, Lebowski.\")\n",
    "        end_service = True\n",
    "        break\n",
    "    \n",
    "\n",
    "\n"
   ]
  },
  {
   "cell_type": "markdown",
   "id": "d59c9ec5-a830-41af-9dd2-98d3db06c144",
   "metadata": {},
   "source": [
    "# References"
   ]
  },
  {
   "cell_type": "markdown",
   "id": "8c147b43-e798-41a5-9bdc-5c7219467bd8",
   "metadata": {},
   "source": [
    "This kept displaying incorrectly, and I could not for the life of me figure out how to get it to work. This solution seems to work. \n",
    "\n",
    "<div><center><img src = \"assets/ChatGPT_print_questions.JPG\"></center></div>\n",
    "\n",
    "\n",
    "\n",
    "I also could not figure out how to get this to show two decimal points, so:\n",
    "\n",
    "<div><center><img src = \"assets/ChatGPT_display_decimals.JPG\"></center></div>\n"
   ]
  },
  {
   "cell_type": "code",
   "execution_count": null,
   "id": "034fc40d-151b-4a97-9470-e1b07e9f8de4",
   "metadata": {},
   "outputs": [],
   "source": []
  }
 ],
 "metadata": {
  "kernelspec": {
   "display_name": "Python 3 (ipykernel)",
   "language": "python",
   "name": "python3"
  },
  "language_info": {
   "codemirror_mode": {
    "name": "ipython",
    "version": 3
   },
   "file_extension": ".py",
   "mimetype": "text/x-python",
   "name": "python",
   "nbconvert_exporter": "python",
   "pygments_lexer": "ipython3",
   "version": "3.12.7"
  }
 },
 "nbformat": 4,
 "nbformat_minor": 5
}
