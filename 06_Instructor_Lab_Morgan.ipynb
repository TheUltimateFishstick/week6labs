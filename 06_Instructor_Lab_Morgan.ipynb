{
 "cells": [
  {
   "cell_type": "markdown",
   "id": "ac597677-dc72-46a2-8df2-e39495a3dad0",
   "metadata": {},
   "source": [
    "Troy Morgan, Week 6 Instructor-Led Lab for BGEN 632, Graduate Introduction to Python. Submitted April 7, 2025\n",
    "\n",
    "The Magic Crystal Ball!! (Nihilist Version)"
   ]
  },
  {
   "cell_type": "code",
   "execution_count": 1,
   "id": "56bde99e-43d5-4a80-aa9a-be77a0e78e4c",
   "metadata": {},
   "outputs": [],
   "source": [
    "## This is the list that contains the answers. \n",
    "\n",
    "answers = [\n",
    "    \"It is certain.\",\n",
    "    \"It is decidedly so.\",\n",
    "    \"That question requires greater monetary compensation.\",\n",
    "    \"Reply is hazy; try again, with more money.\",\n",
    "    \"Concentrate and ask again.\",\n",
    "    \"My reply is no.\",\n",
    "    \"Outlook is not so good.\",\n",
    "    \"Very doubtful.\",\n",
    "    \"Outlook is good, but nothing matters and all will end in death anyway.\", \n",
    "    \"All replies are meaningless. Nothing is ever certain.\",\n",
    "    \"Everything is absurd. Surrender yourself to the meaningless void.\"\n",
    "    ]"
   ]
  },
  {
   "cell_type": "code",
   "execution_count": null,
   "id": "f13eb2e8-7bc1-40c0-a582-fab4a8ef06e9",
   "metadata": {},
   "outputs": [],
   "source": []
  }
 ],
 "metadata": {
  "kernelspec": {
   "display_name": "Python 3 (ipykernel)",
   "language": "python",
   "name": "python3"
  },
  "language_info": {
   "codemirror_mode": {
    "name": "ipython",
    "version": 3
   },
   "file_extension": ".py",
   "mimetype": "text/x-python",
   "name": "python",
   "nbconvert_exporter": "python",
   "pygments_lexer": "ipython3",
   "version": "3.12.7"
  }
 },
 "nbformat": 4,
 "nbformat_minor": 5
}
